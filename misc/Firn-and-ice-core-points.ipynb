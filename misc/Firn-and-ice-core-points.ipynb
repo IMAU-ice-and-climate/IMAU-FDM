{
 "cells": [
  {
   "cell_type": "markdown",
   "id": "49777e90-38f6-4fb1-9d17-882fb4bbeccf",
   "metadata": {},
   "source": [
    "# Find the closest FDM points to ice cores from QGreenland and firn cores collected in sumup"
   ]
  },
  {
   "cell_type": "code",
   "execution_count": 3,
   "id": "c64b7539-519d-4070-91c9-ecfb7e4f4ac2",
   "metadata": {},
   "outputs": [],
   "source": [
    "from scipy.spatial.distance import cdist\n",
    "import xarray as xr\n",
    "import matplotlib.pyplot as plt\n",
    "import numpy as np\n",
    "import geopandas as gpd"
   ]
  },
  {
   "cell_type": "code",
   "execution_count": 6,
   "id": "df2e25d7-5e5d-4c2e-96ae-a98aedd6794c",
   "metadata": {},
   "outputs": [],
   "source": [
    "# import FDM locations\n",
    "\n",
    "path_to_fdm_locations = \"/perm/nld4814/code/IMAU-FDM/reference/FGRN055/\"\n",
    "df_\n",
    "\n",
    "# import ice core locations from QGreenland\n",
    "\n",
    "path_to_qgreenland = \"/perm/nld4814/cores/qgreenland/\"\n",
    "df_qg = gpd.read_file(path_to_qgreenland+\"ice_cores.geojson\")\n",
    "\n",
    "# import sumup locations\n",
    "\n",
    "path_to_SUMup_folder = '/perm/nld4814/cores/sumup/'\n",
    "df_density = xr.open_dataset(\n",
    "    path_to_SUMup_folder+'data/SUMup_2024_density_greenland.nc',\n",
    "    group='DATA').to_dataframe()\n",
    "\n",
    "ds_meta = xr.open_dataset(\n",
    "    path_to_SUMup_folder + 'data/SUMup_2024_density_greenland.nc',\n",
    "    group='METADATA')\n",
    "\n",
    "# more elegant decoding\n",
    "for v in ['profile','reference','reference_short','method']:\n",
    "    ds_meta[v] = ds_meta[v].str.decode('utf-8')\n",
    "\n",
    "# ds_meta contain the meaning of profile_key, reference_key, method_key being\n",
    "# used in df_density\n",
    "\n",
    "# % creating a metadata frame\n",
    "# that contains, for each unique location, the important information\n",
    "# (lat/lon, reference...)\n",
    "df_meta = df_density[\n",
    "    ['profile_key','latitude','longitude','timestamp','reference_key','method_key']\n",
    "    ].drop_duplicates()\n",
    "\n",
    "df_meta['profile_name'] = ds_meta.profile.sel(profile_key= df_meta.profile_key.values)\n",
    "df_meta['method'] = ds_meta.method.sel(method_key= df_meta.method_key.values)\n",
    "df_meta['reference'] = ds_meta.reference.sel(reference_key= df_meta.reference_key.values)\n",
    "df_meta['reference_short'] = ds_meta.reference_short.sel(reference_key= df_meta.reference_key.values)\n",
    "df_meta = df_meta.set_index('profile_key')\n",
    "\n"
   ]
  },
  {
   "cell_type": "code",
   "execution_count": 52,
   "id": "cb8ee85d-4f74-48f0-9948-1d663a1e6f2e",
   "metadata": {},
   "outputs": [],
   "source": []
  },
  {
   "cell_type": "code",
   "execution_count": 77,
   "id": "4daae924-aa94-4ecd-baca-80a74496e56b",
   "metadata": {},
   "outputs": [
    {
     "data": {
      "text/plain": [
       "'\\n     \\n<table><tr><td>NETWORK: ICE CORES</td></tr><tr><td>INVESTIGATOR: PETRENKO, V.V.</td></tr><tr><td>LATITUDE: 72.57963</td></tr><tr><td>LONGITUDE: -38.49253</td></tr><tr><td>STUDY NAME: SUMMIT, GREENLAND FIRN COSMOGENIC 14CH4 DATA</td></tr><tr><td></td></tr><tr><td><a href=\"https://www.ncdc.noaa.gov/paleo-search/study/12256?siteId=52442\">Access Data</a></td></tr></table>    \\n'"
      ]
     },
     "execution_count": 77,
     "metadata": {},
     "output_type": "execute_result"
    }
   ],
   "source": [
    "idx=50\n",
    "df_qg.iloc[idx].description"
   ]
  },
  {
   "cell_type": "code",
   "execution_count": 80,
   "id": "64897a72-9152-44f3-bf1a-e12eea3d0ae3",
   "metadata": {},
   "outputs": [
    {
     "data": {
      "text/plain": [
       "' GRIP '"
      ]
     },
     "execution_count": 80,
     "metadata": {},
     "output_type": "execute_result"
    }
   ],
   "source": [
    "df_qg.iloc[0].Name"
   ]
  },
  {
   "cell_type": "code",
   "execution_count": 82,
   "id": "9256c340-49f3-422f-9c90-bd8ab0943e23",
   "metadata": {},
   "outputs": [
    {
     "ename": "SyntaxError",
     "evalue": "positional argument follows keyword argument (1057805186.py, line 3)",
     "output_type": "error",
     "traceback": [
      "\u001b[0;36m  Cell \u001b[0;32mIn[82], line 3\u001b[0;36m\u001b[0m\n\u001b[0;31m    idxs = np.zeros(shape=1,len(df_qg))\u001b[0m\n\u001b[0m                                      ^\u001b[0m\n\u001b[0;31mSyntaxError\u001b[0m\u001b[0;31m:\u001b[0m positional argument follows keyword argument\n"
     ]
    }
   ],
   "source": [
    "#make new xarray\n",
    "\n",
    "idxs = np.zeros(shape=1,len(df_qg))\n",
    "labels = []\n",
    "lats = []\n",
    "lons = []\n",
    "\n",
    "for idx in range(0,len(df_qg)):\n",
    "    #find lat\n",
    "    idx_start_lat = df_qg.iloc[idx].description.find(\"LATITUDE\") + 10\n",
    "    idx_end = df_qg.iloc[idx].description[idx_start_lat:idx_start_lat+20].find(\"<\")\n",
    "    idx_end_lat = idx_start_lat+idx_end\n",
    "    lat = df_qg.iloc[idx].description[idx_start_lat:idx_end_lat]\n",
    "    \n",
    "    #find lon\n",
    "    idx_start_lon = df_qg.iloc[idx].description.find(\"LONGITUDE\") + 11\n",
    "    idx_end = df_qg.iloc[idx].description[idx_start_lon:idx_start_lon+20].find(\"<\")\n",
    "    idx_end_lon = idx_start_lon+idx_end\n",
    "    lon = df_qg.iloc[idx].description[idx_start_lon:idx_end_lon]\n",
    "\n",
    "    idxs = idxs.append(idx)\n",
    "    labels = labels.append(df_qg.iloc[idx].Name)\n",
    "    lats = lats.append(lat)\n",
    "    lons = lons.append(lon)\n",
    "    print(idx,lat,lon)\n"
   ]
  },
  {
   "cell_type": "code",
   "execution_count": 68,
   "id": "629530fd-d2ad-46a6-ae77-55e88c87ce9b",
   "metadata": {},
   "outputs": [],
   "source": []
  },
  {
   "cell_type": "code",
   "execution_count": 70,
   "id": "c5c8d836-26e1-48bc-9d69-be34c780745a",
   "metadata": {},
   "outputs": [
    {
     "data": {
      "text/plain": [
       "'     \\n<table><tr><td>NETWORK: ICE CORES</td></tr><tr><td>INVESTIGATOR: GRACHEV, A.M.</td></tr><tr><td>LATITUDE: 72.6</td></tr><tr><td>LONGITUDE: -38.5'"
      ]
     },
     "execution_count": 70,
     "metadata": {},
     "output_type": "execute_result"
    }
   ],
   "source": [
    "df_qg.iloc[20].description[1:idx_end_lon]"
   ]
  },
  {
   "cell_type": "code",
   "execution_count": 46,
   "id": "cc3633f3-24a6-4ca7-b6a2-2c6177738c67",
   "metadata": {},
   "outputs": [
    {
     "data": {
      "text/plain": [
       "<Axes: >"
      ]
     },
     "execution_count": 46,
     "metadata": {},
     "output_type": "execute_result"
    },
    {
     "data": {
      "image/png": "[encoded data removed]",
      "text/plain": [
       "<Figure size 640x480 with 1 Axes>"
      ]
     },
     "metadata": {},
     "output_type": "display_data"
    }
   ],
   "source": [
    "df_qg.plot()"
   ]
  },
  {
   "cell_type": "code",
   "execution_count": null,
   "id": "82b1f1d4-a0b4-443e-a335-3459e3ee2816",
   "metadata": {},
   "outputs": [],
   "source": []
  }
 ],
 "metadata": {
  "kernelspec": {
   "display_name": "Python 3.11.10-01",
   "language": "python",
   "name": "python3"
  },
  "language_info": {
   "codemirror_mode": {
    "name": "ipython",
    "version": 3
   },
   "file_extension": ".py",
   "mimetype": "text/x-python",
   "name": "python",
   "nbconvert_exporter": "python",
   "pygments_lexer": "ipython3",
   "version": "3.11.10"
  }
 },
 "nbformat": 4,
 "nbformat_minor": 5
}
